{
 "cells": [
  {
   "cell_type": "code",
   "execution_count": null,
   "metadata": {
    "collapsed": true
   },
   "outputs": [],
   "source": [
    "\"\"\"\n",
    "Template for week 14 project in Data Visualization\n",
    "\n",
    "Load binary CT data and plot the contours of the resulting volume\n",
    "http://graphics.cs.ucdavis.edu/~okreylos/PhDStudies/Spring2000/ECS277/DataSets.html\n",
    "\"\"\"\n",
    "\n",
    "import struct\n",
    "import time\n",
    "import numpy as np\n",
    "import plotly\n",
    "import plotly.graph_objects as go\n",
    "import plotly.figure_factory as ff\n",
    "import skimage\n",
    "from skimage import io\n",
    "import matplotlib.pyplot as plt\n",
    "\n"
   ]
  },
  {
   "cell_type": "code",
   "execution_count": null,
   "metadata": {
    "collapsed": true
   },
   "outputs": [],
   "source": [
    "# Note that file names are caps-sensitive on Unix\n",
    "PLOTS_PATH = \"plots/\"\n",
    "DATA_PATH = \"data/\"\n",
    "C60_64 = DATA_PATH + \"C60_64.vol\"\n",
    "C60_128 = DATA_PATH + \"C60_128.vol\"\n",
    "FOOT = DATA_PATH + \"Foot.vol\"\n",
    "SKULL = DATA_PATH + \"Skull.vol\"\n",
    "\n",
    "VOLS = {}\n",
    "\n",
    "# Custom colorscale for CT volumes\n",
    "PL_BONE = [\n",
    "    [0.0, 'rgb(0, 0, 0)'],\n",
    "    [0.05, 'rgb(10, 10, 14)'],\n",
    "    [0.1, 'rgb(21, 21, 30)'],\n",
    "    [0.15, 'rgb(33, 33, 46)'],\n",
    "    [0.2, 'rgb(44, 44, 62)'],\n",
    "    [0.25, 'rgb(56, 55, 77)'],\n",
    "    [0.3, 'rgb(66, 66, 92)'],\n",
    "    [0.35, 'rgb(77, 77, 108)'],\n",
    "    [0.4, 'rgb(89, 92, 121)'],\n",
    "    [0.45, 'rgb(100, 107, 132)'],\n",
    "    [0.5, 'rgb(112, 123, 143)'],\n",
    "    [0.55, 'rgb(122, 137, 154)'],\n",
    "    [0.6, 'rgb(133, 153, 165)'],\n",
    "    [0.65, 'rgb(145, 169, 177)'],\n",
    "    [0.7, 'rgb(156, 184, 188)'],\n",
    "    [0.75, 'rgb(168, 199, 199)'],\n",
    "    [0.8, 'rgb(185, 210, 210)'],\n",
    "    [0.85, 'rgb(203, 221, 221)'],\n",
    "    [0.9, 'rgb(220, 233, 233)'],\n",
    "    [0.95, 'rgb(238, 244, 244)'],\n",
    "    [1.0, 'rgb(255, 255, 255)']\n",
    "]\n"
   ]
  },
  {
   "cell_type": "code",
   "execution_count": null,
   "metadata": {
    "collapsed": true
   },
   "outputs": [],
   "source": [
    "#########################################################################\n",
    "# Part 1 - Implement Volume class and make_volume()\n",
    "\n",
    "class Volume:\n",
    "    \"\"\"\n",
    "    Container for CT volume data\n",
    "    \"\"\"\n",
    "    \n",
    "    def __init__(self, grid_values, grid_extents=(1, 1, 1)):\n",
    "        \"\"\"\n",
    "        Input: 3D numpy array grid_values, optional tuple grid_extents\n",
    "        that contains extent of grid in each dimension\n",
    "        \n",
    "        Ouput: Object storing grid of scalar data\n",
    "        \"\"\"\n",
    "        self._data = grid_values\n",
    "        self._extents = grid_extents\n",
    "#         return\n",
    "    \n",
    "    # Implement during Part 3\n",
    "    def plot_volume_contour(self, val, title=\"Contour plot of volume\", plot_edges=True):\n",
    "        \"\"\"\n",
    "        Input: Volume object self, number val, optional string title\n",
    "        \n",
    "        Output: plotly figure corresponding to contour plot of volume using Marching Cubes\n",
    "        with specified value val.  Use grid extents to set aspect ratio.\n",
    "        Also writes HTML to PLOTS_PATH + title + \".html\".\n",
    "        \"\"\"\n",
    "\n",
    "        volume_data = self._data\n",
    "        verts, faces = skimage.measure.marching_cubes_classic(volume_data, level=val)\n",
    "        \n",
    "        fig = ff.create_trisurf(x=verts[:, 0], y=verts[:, 1], z=verts[:, 2], \n",
    "                                simplices=faces, plot_edges=plot_edges, title=title)\n",
    "        \n",
    "        filepath = './plots/' +title+ \".html\"\n",
    "        plotly.io.write_html(fig, file=filepath)\n",
    "        fig.show()\n",
    "        return fig\n",
    "    \n",
    "    def frame_args(self, duration):\n",
    "        \"\"\"\n",
    "        frame_args\n",
    "        \"\"\"\n",
    "        return {\"frame\": {\"duration\": duration},\n",
    "                \"mode\": \"immediate\",\n",
    "                \"fromcurrent\": True,\n",
    "                \"transition\": {\"duration\": duration, \"easing\": \"linear\"},}\n",
    "        \n",
    "    # Implement during Part 4\n",
    "    def plot_volume_slice(self, title):\n",
    "        \"\"\"\n",
    "        Input: Volume object self, optional string title\n",
    "    \n",
    "        Output: plotly figure corresponding to 3D slices of volume \n",
    "        perpendicular to z-axis. The vertical position of this slice \n",
    "        should be controlled by buttons and a slider\n",
    "        Also writes HTML to PLOTS_PATH + title + \".html\".\n",
    "        \"\"\"   \n",
    "        vol = self._data\n",
    "        volume = vol.T\n",
    "\n",
    "        nb_frames = len(volume)\n",
    "        \n",
    "        fig = go.Figure(frames=[go.Frame(data=go.Surface(z=(((len(volume)-1) / 10) - k * 0.1) \n",
    "                                                         * np.ones((volume[0].shape[0], \n",
    "                                                                    volume[0].shape[1])), \n",
    "                                                         surfacecolor=np.flipud(volume[\n",
    "                                                             len(volume) - 1 - k]), \n",
    "                                                         cmin=volume.min(), \n",
    "                                                         cmax=volume.max()), \n",
    "                                         name=str(k)) for k in reversed(range(nb_frames))])\n",
    "\n",
    "        # Add data to be displayed before animation starts\n",
    "        fig.add_trace(go.Surface(z=((len(volume)-1) / 10) * np.ones((volume[0].shape[0], \n",
    "                                                                     volume[0].shape[1])), \n",
    "                                 surfacecolor=np.flipud(volume[len(volume)-1]), \n",
    "                                 colorscale=PL_BONE, cmin=volume.min(), \n",
    "                                 cmax=volume.max(), colorbar=dict(thickness=20, ticklen=4)))\n",
    "\n",
    "        sliders = [{\"pad\": {\"b\": 10, \"t\": 60}, \"len\": 0.9, \"x\": 0.1, \"y\": 0, \n",
    "                    \"steps\": [{\"args\": [[f.name], self.frame_args(0)], \"label\": str(k), \n",
    "                               \"method\": \"animate\",} for k, f in enumerate(fig.frames)],}]\n",
    "\n",
    "        # Layout\n",
    "        fig.update_layout(\n",
    "            title=title,\n",
    "            width=600,\n",
    "            height=600,\n",
    "            scene=dict(zaxis=dict(range=[-0.1, nb_frames/10], autorange=False), \n",
    "                       aspectratio=dict(x=self._extents[0], y=self._extents[1], \n",
    "                                        z=self._extents[2]), ), \n",
    "            updatemenus=[{\"buttons\": [{\"args\": [None, self.frame_args(50)], \n",
    "                                       \"label\": \"&#9654;\", \"method\": \"animate\",}, \n",
    "                                      {\"args\": [[None], self.frame_args(0)], \n",
    "                                       \"label\": \"&#9724;\", \"method\": \"animate\",},], \n",
    "                          \"direction\": \"left\", \"pad\": {\"r\": 10, \"t\": 70}, \n",
    "                          \"type\": \"buttons\", \"x\": 0.1, \"y\": 0,}], sliders=sliders)\n",
    "        filepath = './plots/' +title+ \".html\"\n",
    "        plotly.io.write_html(fig, file=filepath)\n",
    "        fig.show()\n",
    "        \n",
    "        return fig\n",
    "        "
   ]
  },
  {
   "cell_type": "code",
   "execution_count": null,
   "metadata": {
    "collapsed": true,
    "tags": [
     "notebook_only"
    ]
   },
   "outputs": [],
   "source": [
    "def test_volume():\n",
    "    \"\"\" Test the Volume class initializer \"\"\"\n",
    "    \n",
    "    Volume(np.array([[[0]]]))\n",
    "    Volume(np.array([[[1, 1], [1, 1]], [[2, 2], [2, 2]], [[3, 3], [3, 3]]]), (3, 2, 2))\n",
    "    \n",
    "test_volume()"
   ]
  },
  {
   "cell_type": "code",
   "execution_count": null,
   "metadata": {
    "collapsed": true
   },
   "outputs": [],
   "source": [
    "def make_volume(z_coords, y_coords, x_coords, grid_fun):\n",
    "    \"\"\"\n",
    "    Input: Numpy arrays z_coords, y_coords, x_coords,\n",
    "    function grid_fun that takes 3 scalar parameters\n",
    "\n",
    "    Output: Volume object whose grid values as grid_fun(z, y, x)\n",
    "    taken at points of the grid defined by the coordinate arrays\n",
    "    \"\"\"\n",
    "    z_extent = z_coords[-1] - z_coords[0]\n",
    "    y_extent = y_coords[-1] - y_coords[0]\n",
    "    x_extent = x_coords[-1] - x_coords[0]\n",
    "#     xv, yv, zv = np.meshgrid(x_coords, y_coords, z_coords)\n",
    "    y_v, z_v, x_v = np.meshgrid(y_coords, z_coords, x_coords)\n",
    "#     print(xv)\n",
    "#     print(yv)\n",
    "#     print(zv)\n",
    "\n",
    "#     grid_f_v = np.vectorize(grid_fun)\n",
    "#     grid_f_v(zv, yv, xv)\n",
    "    grid_fun(z_v, y_v, x_v)\n",
    "#     print(grid_f_v(zv, yv, xv))\n",
    "\n",
    "    grid_f = grid_fun(z_v, y_v, x_v)\n",
    "#     print(grid_fun(zv, yv, xv))\n",
    "\n",
    "#     return xv, yv, zv\n",
    "    return Volume(grid_f, grid_extents=(z_extent, y_extent, x_extent))\n",
    "#     return Volume(np.array([]))"
   ]
  },
  {
   "cell_type": "code",
   "execution_count": null,
   "metadata": {
    "collapsed": true,
    "tags": [
     "notebook_only"
    ]
   },
   "outputs": [],
   "source": [
    "def test_make_volume():\n",
    "    \"\"\" Test make_volume function \"\"\"\n",
    "\n",
    "    z_values = np.linspace(-3, 3, 7)\n",
    "    y_values = np.linspace(-2, 2, 5)\n",
    "    x_values = np.linspace(-1, 1, 5)\n",
    "    grid_fun = lambda z, y, x: x + y + z\n",
    "    VOLS[\"linear\"] = make_volume(z_values, y_values, x_values, grid_fun)\n",
    "    \n",
    "    z_values = np.linspace(-3, 3, 13)\n",
    "    y_values = np.linspace(-3, 3, 13)\n",
    "    x_values = np.linspace(-3, 3, 13)\n",
    "    grid_fun = lambda z, y, x: z ** 2 + y ** 2 + x ** 2\n",
    "    VOLS[\"spherical\"] = make_volume(z_values, y_values, x_values, grid_fun)\n",
    "    \n",
    "test_make_volume()"
   ]
  },
  {
   "cell_type": "code",
   "execution_count": null,
   "metadata": {
    "collapsed": true
   },
   "outputs": [],
   "source": [
    "############################################################################\n",
    "# Part 2 - Read binary CT data from a file and create a Volume object\n",
    "\n",
    "\n",
    "def read_volume(vol_name):\n",
    "    \"\"\"\n",
    "    Input: String vol_name \n",
    "    \n",
    "    Output: Volume object read from binary-encoded CT volume data in given file\n",
    "    \n",
    "    NOTE: Use struct module - https://docs.python.org/3/library/struct.html\n",
    "    \"\"\"\n",
    "    with open(vol_name, \"rb\") as table_file:\n",
    "        table_binary = table_file.read()\n",
    "#     print(table_binary)\n",
    "        \n",
    "    shape_fmt = \">4i3f\"\n",
    "    table_shape = struct.unpack_from(shape_fmt, table_binary)\n",
    "    print(\"Read shape\", table_shape)\n",
    "    \n",
    "      \n",
    "    table_size = table_shape[0] * table_shape[1] * table_shape[2]\n",
    "    table_offset = struct.calcsize(shape_fmt)\n",
    "    table_fmt = \">\" + str(table_size) + \"B\"\n",
    "    \n",
    "    table_bytes = struct.unpack_from(table_fmt, table_binary, table_offset)\n",
    "    flat_table = np.array(table_bytes, dtype=np.uint8)\n",
    "    \n",
    "    vol_shape = np.reshape(flat_table, table_shape[0:3])\n",
    "    return Volume(vol_shape, grid_extents=(table_shape[4], table_shape[5], table_shape[6]))\n",
    "#     return np.reshape(flat_table, new_table_shape[0:3])"
   ]
  },
  {
   "cell_type": "code",
   "execution_count": null,
   "metadata": {
    "collapsed": true,
    "tags": [
     "notebook_only"
    ]
   },
   "outputs": [],
   "source": [
    "def test_read_volume():\n",
    "    \"\"\" Test read_volume() \"\"\"\n",
    "    \n",
    "    VOLS[\"C60_64\"] = read_volume(C60_64)  \n",
    "    VOLS[\"FOOT\"] = read_volume(FOOT)\n",
    "    VOLS[\"SKULL\"] = read_volume(SKULL)\n",
    "    \n",
    "test_read_volume()"
   ]
  },
  {
   "cell_type": "code",
   "execution_count": null,
   "metadata": {
    "collapsed": true,
    "tags": [
     "notebook_only"
    ]
   },
   "outputs": [],
   "source": [
    "################################################################################\n",
    "# Part 3 - Add contour_volume method to the Volume class\n",
    "\n",
    "def test_plot_volume_contour():\n",
    "    \"\"\" Test plot_volume_contour() \"\"\"\n",
    "    \n",
    "    VOLS[\"linear\"].plot_volume_contour(0, \"Contour plot of linear function\")    \n",
    "    VOLS[\"spherical\"].plot_volume_contour(4, \"Contour plot of spherical function\", plot_edges=False)\n",
    "    \n",
    "    VOLS[\"C60_64\"].plot_volume_contour(127, \"Contour plot of C60\")\n",
    "    VOLS[\"FOOT\"].plot_volume_contour(127, \"Contour plot of human foot\")\n",
    "    VOLS[\"SKULL\"].plot_volume_contour(127, \"Contour plot of human skull\")\n",
    "    \n",
    "#test_plot_volume_contour()"
   ]
  },
  {
   "cell_type": "markdown",
   "metadata": {},
   "source": [
    "## Links to the 5 triangular meshes produced by `test_plot_volume_contour()`\n",
    "\n",
    "* [Contour plot of linear function](plots/Contour%20plot%20of%20linear%20function.html)\n",
    "* [Contour plot of spherical function](plots/Contour%20plot%20of%20spherical%20function.html)\n",
    "* [Contour plot of C60](plots/Contour%20plot%20of%20C60.html)\n",
    "* [Contour plot of human foot](plots/Contour%20plot%20of%20human%20foot.html)\n",
    "* [Contour plot of human skull](plots/Contour%20plot%20of%20human%20skull.html)"
   ]
  },
  {
   "cell_type": "code",
   "execution_count": null,
   "metadata": {
    "collapsed": true,
    "tags": [
     "notebook_only"
    ]
   },
   "outputs": [],
   "source": [
    "################################################################################\n",
    "# Part 4 - Add plot_volume_slice method to the Volume class\n",
    "\n",
    "def test_plot_volume_slice():\n",
    "    \"\"\" Test plot_volume_slice() \"\"\"\n",
    "\n",
    "    VOLS[\"linear\"].plot_volume_slice(\"Horizontal slices of linear function\")    \n",
    "    VOLS[\"spherical\"].plot_volume_slice(\"Horizontal slices of spherical function\")\n",
    "    \n",
    "    VOLS[\"C60_64\"].plot_volume_slice(\"Horizontal slices of C60\")\n",
    "    VOLS[\"FOOT\"].plot_volume_slice(\"Horizontal slices of human foot\")\n",
    "    VOLS[\"SKULL\"].plot_volume_slice(\"Horizontal slices of human skull\")\n",
    "    \n",
    "test_plot_volume_slice()"
   ]
  },
  {
   "cell_type": "markdown",
   "metadata": {},
   "source": [
    "### Links to the horizontal slicing of the 5 volumes produced by `test_plot_volume_slice()`\n",
    "* [Horizontal slices of linear function](plots/Horizontal%20slices%20of%20linear%20function.html)\n",
    "* [Horizontal slices of spherical function](plots/Horizontal%20slices%20of%20spherical%20function.html)\n",
    "* [Horizontal slices of C60_64](plots/Horizontal%20slices%20of%20C60.html)\n",
    "* [Horizontal slices of human foot](plots/Horizontal%20slices%20of%20human%20foot.html)\n",
    "* [Horizontal slices of human skull](plots/Horizontal%20slices%20of%20human%20skull.html)"
   ]
  }
 ],
 "metadata": {
  "celltoolbar": "Tags",
  "kernelspec": {
   "display_name": "Python 3 [3.6]",
   "language": "python",
   "name": "python3"
  },
  "language_info": {
   "codemirror_mode": {
    "name": "ipython",
    "version": 3
   },
   "file_extension": ".py",
   "mimetype": "text/x-python",
   "name": "python",
   "nbconvert_exporter": "python",
   "pygments_lexer": "ipython3",
   "version": "3.6.4"
  }
 },
 "nbformat": 4,
 "nbformat_minor": 2
}
